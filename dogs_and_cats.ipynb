{
 "cells": [
  {
   "cell_type": "code",
   "execution_count": null,
   "id": "504991bb-614c-404e-a50c-8efb3103428b",
   "metadata": {},
   "outputs": [],
   "source": [
    "!pip install opencv-python\n",
    "jupyter notebook\n",
    "\n",
    "\n"
   ]
  },
  {
   "cell_type": "code",
   "execution_count": null,
   "id": "8ce3459b-1cde-4e39-9935-4f792d3e4f9f",
   "metadata": {},
   "outputs": [],
   "source": [
    "import os\n",
    "import cv2\n",
    "import numpy as np\n",
    "from sklearn.svm import SVC\n",
    "from sklearn.metrics import accuracy_score\n",
    "jupyter notebook\n"
   ]
  },
  {
   "cell_type": "code",
   "execution_count": null,
   "id": "f885ecdc-9432-4112-b20e-c255dc468a7b",
   "metadata": {},
   "outputs": [],
   "source": [
    "train_path = r\"C:\\Users\\user\\Desktop\\dogs and cat recognition\\train\"\n",
    "test_path = r\"C:\\Users\\user\\Desktop\\dogs and cat recognition\\test1\"\n",
    "\n",
    "def load_images(file_list, directory):\n",
    "    images = []\n",
    "    labels = []\n",
    "    for file in file_list:\n",
    "        image_path = os.path.join(directory, file)\n",
    "        image = cv2.imread(image_path)\n",
    "        image = cv2.cvtColor(image, cv2.COLOR_BGR2GRAY)  # Convertir en niveaux de gris\n",
    "        image = cv2.resize(image, (100, 100))  # Redimensionner l'image\n",
    "        images.append(image.flatten())  # Aplatir l'image en un vecteur\n",
    "        if \"cat\" in file:\n",
    "            labels.append(0)  # 0 pour les chats\n",
    "        elif \"dog\" in file:\n",
    "            labels.append(1)  # 1 pour les chiens\n",
    "    return np.array(images), np.array(labels)\n",
    "\n",
    "filenames = os.listdir(train_path)\n",
    "cat_images = [filename for filename in filenames if \"cat\" in filename]\n",
    "dog_images = [filename for filename in filenames if \"dog\" in filename]\n",
    "\n",
    "cat_images, cat_labels = load_images(cat_images, train_path)\n",
    "dog_images, dog_labels = load_images(dog_images, train_path)\n",
    "\n",
    "X_train = np.concatenate((cat_images, dog_images), axis=0)\n",
    "y_train = np.concatenate((cat_labels, dog_labels), axis=0)\n",
    "\n",
    "svm_model = SVC(kernel='linear')\n",
    "svm_model.fit(X_train, y_train)\n",
    "\n",
    "test_filenames = os.listdir(test_path)\n",
    "X_test, y_test = load_images(test_filenames, test_path)\n",
    "\n",
    "predictions = svm_model.predict(X_test)\n",
    "print(classification_report(y_test, predictions))\n",
    "\n",
    "\n",
    "#for i, prediction in enumerate(predictions):\n",
    " #   if prediction == 0:\n",
    "  #      print(f\"Image {test_filenames[i]} : Cat\")\n",
    "   # else:\n",
    "    #    print(f\"Image {test_filenames[i]} : dog\")\n",
    "\n",
    "\n"
   ]
  },
  {
   "cell_type": "code",
   "execution_count": null,
   "id": "a3fbcde2-cb8d-4fc6-8d00-6a38a3f6e112",
   "metadata": {},
   "outputs": [],
   "source": []
  },
  {
   "cell_type": "code",
   "execution_count": null,
   "id": "71474949-5e36-4557-a137-a3f655aa7b56",
   "metadata": {},
   "outputs": [],
   "source": []
  },
  {
   "cell_type": "code",
   "execution_count": null,
   "id": "6790eedd-c697-49c1-93b7-fc9b2b17c281",
   "metadata": {},
   "outputs": [],
   "source": [
    "\n"
   ]
  },
  {
   "cell_type": "code",
   "execution_count": null,
   "id": "e2d814dc-1e02-4d03-b3f7-ea96e1b036e7",
   "metadata": {},
   "outputs": [],
   "source": []
  },
  {
   "cell_type": "code",
   "execution_count": null,
   "id": "da62f32a-c29e-4b39-bdfd-4b78acccadbe",
   "metadata": {},
   "outputs": [],
   "source": []
  }
 ],
 "metadata": {
  "kernelspec": {
   "display_name": "Python 3 (ipykernel)",
   "language": "python",
   "name": "python3"
  },
  "language_info": {
   "codemirror_mode": {
    "name": "ipython",
    "version": 3
   },
   "file_extension": ".py",
   "mimetype": "text/x-python",
   "name": "python",
   "nbconvert_exporter": "python",
   "pygments_lexer": "ipython3",
   "version": "3.11.7"
  }
 },
 "nbformat": 4,
 "nbformat_minor": 5
}
